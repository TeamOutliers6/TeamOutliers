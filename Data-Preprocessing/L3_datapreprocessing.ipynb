{
  "nbformat": 4,
  "nbformat_minor": 0,
  "metadata": {
    "kernelspec": {
      "display_name": "Python 3",
      "language": "python",
      "name": "python3"
    },
    "language_info": {
      "codemirror_mode": {
        "name": "ipython",
        "version": 3
      },
      "file_extension": ".py",
      "mimetype": "text/x-python",
      "name": "python",
      "nbconvert_exporter": "python",
      "pygments_lexer": "ipython3",
      "version": "3.7.4"
    },
    "colab": {
      "name": " L3_datapreprocessing.ipynb",
      "provenance": [],
      "collapsed_sections": []
    }
  },
  "cells": [
    {
      "cell_type": "code",
      "metadata": {
        "colab": {
          "base_uri": "https://localhost:8080/"
        },
        "id": "x-TeSDACvsMM",
        "outputId": "197fa700-ae9b-4572-90be-e6e5e992f646"
      },
      "source": [
        "# mounting the drive\n",
        "from google.colab import drive\n",
        "drive.mount('/content/gdrive')"
      ],
      "execution_count": null,
      "outputs": [
        {
          "output_type": "stream",
          "text": [
            "Mounted at /content/gdrive\n"
          ],
          "name": "stdout"
        }
      ]
    },
    {
      "cell_type": "code",
      "metadata": {
        "colab": {
          "base_uri": "https://localhost:8080/"
        },
        "id": "A-vWGeLCHXRl",
        "outputId": "38970220-7804-41c1-a4b5-9407754bca81"
      },
      "source": [
        "#changing directory to My Drive\n",
        "%cd /content/gdrive/My Drive/"
      ],
      "execution_count": null,
      "outputs": [
        {
          "output_type": "stream",
          "text": [
            "/content/gdrive/My Drive\n"
          ],
          "name": "stdout"
        }
      ]
    },
    {
      "cell_type": "markdown",
      "metadata": {
        "id": "qNdd-3LQDMbK"
      },
      "source": [
        "DATA PREPROCESSING STEP-1: EXTRACTING REGIONS OF INTEREST"
      ]
    },
    {
      "cell_type": "code",
      "metadata": {
        "id": "t1H7QXBf5Ggv"
      },
      "source": [
        "#importing required packages\n",
        "#!pip install scikit-image\n",
        "from skimage import color\n",
        "import cv2\n",
        "from skimage import io\n",
        "from google.colab.patches import cv2_imshow\n",
        "import numpy as np\n",
        "import glob\n",
        "import matplotlib.pyplot as plt\n",
        "from PIL import ImageEnhance\n",
        "from PIL import Image\n",
        "\n",
        "#calling the folder with Initial images from Team Metallicus\n",
        "img_path = 'sarcopenia-ai-master/Dataset/*.jpg'\n",
        "image_list = []\n",
        "for filename in glob.glob(img_path):\n",
        "  im=Image.open(filename)\n",
        "  i = np.asarray(im)\n",
        "  image_list.append(i) #placing all the images in a list\n",
        "# cv2_imshow(image_list[2])\n",
        "image = Image.fromarray(image_list[9])\n",
        "image.save('rev2.jpg')\n",
        "imf = cv2.imread('rev2.jpg')\n",
        "clone = imf.copy()\n",
        "(H, W) = imf.shape[:2]\n",
        "img_centre_x = W//2\n",
        "img_centre_y = H//2\n",
        "plt.imshow(imf)\n",
        "#converting into grayscale\n",
        "gray = cv2.cvtColor(imf, cv2.COLOR_BGR2GRAY)\n",
        "plt.imshow(gray, cmap='gray')\n",
        "gray.shape\n",
        "#Applying Gaussian Blur\n",
        "blurred = cv2.GaussianBlur(imf, (11, 11), 0)\n",
        "plt.imshow(blurred)\n",
        "#Applying Canny function for Edge Detection\n",
        "canny = cv2.Canny(blurred, 50, 100)\n",
        "plt.imshow(canny)\n",
        "#performing Dilation\n",
        "dilateSize = 3\n",
        "#dilateSize = 15\n",
        "kernel = cv2.getStructuringElement(cv2.MORPH_ELLIPSE, (dilateSize,dilateSize))\n",
        "#canny_morphed = cv2.morphologyEx(canny, cv2.MORPH_CLOSE, kernel)\n",
        "#canny_morphed = cv2.morphologyEx(canny, cv2.MORPH_OPEN, kernel)\n",
        "canny_morphed = canny\n",
        "canny_morphed  = cv2.dilate(canny_morphed,kernel,iterations=5)\n",
        "#cv2.imshow(\"canny_morphed1\", canny_morphed)\n",
        "#performing erosion\n",
        "canny_morphed  = cv2.erode(canny_morphed,kernel,iterations=5)\n",
        "plt.imshow(canny_morphed)\n",
        "MIN_CONTOUR_AREA = 7000\n",
        "RESIZE_IMAGE = False\n",
        "DEBUG = False\n",
        "#getting contours\n",
        "import contour_lib\n",
        "contours_list = contour_lib.get_contours(canny_morphed, min_contour_area=1500.0)\n",
        "for c in contours_list:\n",
        "    tmpAreaBlack = np.zeros(clone.shape)\n",
        "    print(\"No of points in contour= {}, area: {}\".format(len(c[0]), c[2]))\n",
        "    cv2.drawContours(tmpAreaBlack,[c[0]], 0, (255,255,255),cv2.FILLED)\n",
        "    plt.imshow(tmpAreaBlack)\n",
        "    plt.show()\n",
        "tmpAreaBlack = np.zeros(clone.shape)\n",
        "#extracting the central area\n",
        "c=contours_list[1]\n",
        "print(\"No of points in contour= {}, area: {}\".format(len([0]), c[2]))\n",
        "cv2.drawContours(tmpAreaBlack,[c[0]], 0, (255,255,255),cv2.FILLED)\n",
        "\n",
        "mask = tmpAreaBlack[:,:,0].astype(\"uint8\")\n",
        "new_img_blk_bg = cv2.bitwise_and(clone, clone, mask=mask)\n",
        "plt.imshow(new_img_blk_bg)\n",
        "plt.axis(\"off\")\n",
        "#saving the image. You can also provide folder name where to store the image.\n",
        "plt.savefig(\"output_t.jpg\")\n",
        "plt.show()\n",
        "\n",
        "\n"
      ],
      "execution_count": null,
      "outputs": []
    },
    {
      "cell_type": "markdown",
      "metadata": {
        "id": "1OlGQa62DWiS"
      },
      "source": [
        "DATA PRE-PROCESSING STEP2: CLEANING THE BLURRED REGION"
      ]
    },
    {
      "cell_type": "code",
      "metadata": {
        "id": "486BaSq-7Aue"
      },
      "source": [
        "#importing required packages\n",
        "#!pip install scikit-image\n",
        "from skimage import color\n",
        "import cv2\n",
        "from skimage import io\n",
        "from google.colab.patches import cv2_imshow\n",
        "import numpy as np\n",
        "import glob\n",
        "import matplotlib.pyplot as plt\n",
        "from PIL import ImageEnhance\n",
        "from PIL import Image\n",
        "\n",
        "#calling the folder which contains images resulted from previous approach\n",
        "img_path = 'sarcopenia-ai-master/Rutuja_Outputs/*.jpg'\n",
        "image_list = []\n",
        "for filename in glob.glob(img_path):\n",
        "  im=Image.open(filename)\n",
        "  i = np.asarray(im)\n",
        "  image_list.append(i) #placing all the images in the list\n",
        "image = Image.fromarray(image_list[9]) #calling each image\n",
        "\n",
        "#enhancing brightness and contrast\n",
        "enhancer = ImageEnhance.Contrast(image)\n",
        "\n",
        "enhanced_im = enhancer.enhance(6\n",
        "                              )\n",
        "enhancer = ImageEnhance.Brightness(enhanced_im)\n",
        "\n",
        "enhanced_ik = enhancer.enhance(1\n",
        "                              )\n",
        "\n",
        "enhanced_ik.save('deblur_img.jpg') #saving the image. You can also provide a directory to the folder you want to save the image.\n"
      ],
      "execution_count": null,
      "outputs": []
    }
  ]
}