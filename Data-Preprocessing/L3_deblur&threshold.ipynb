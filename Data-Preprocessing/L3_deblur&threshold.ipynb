{
 "cells": [
  {
   "cell_type": "code",
   "execution_count": null,
   "metadata": {
    "colab": {
     "base_uri": "https://localhost:8080/"
    },
    "executionInfo": {
     "elapsed": 20667,
     "status": "ok",
     "timestamp": 1615422865454,
     "user": {
      "displayName": "team outliers",
      "photoUrl": "",
      "userId": "10098256172381899058"
     },
     "user_tz": 300
    },
    "id": "x-TeSDACvsMM",
    "outputId": "f80e1379-eab2-4f13-c7b8-f85d1ec88526"
   },
   "outputs": [
    {
     "name": "stdout",
     "output_type": "stream",
     "text": [
      "Mounted at /content/gdrive\n"
     ]
    }
   ],
   "source": [
    "from google.colab import drive\n",
    "drive.mount('/content/gdrive')"
   ]
  },
  {
   "cell_type": "code",
   "execution_count": null,
   "metadata": {
    "colab": {
     "base_uri": "https://localhost:8080/"
    },
    "executionInfo": {
     "elapsed": 334,
     "status": "ok",
     "timestamp": 1615422867738,
     "user": {
      "displayName": "team outliers",
      "photoUrl": "",
      "userId": "10098256172381899058"
     },
     "user_tz": 300
    },
    "id": "A-vWGeLCHXRl",
    "outputId": "dddd9fdc-0e28-48e1-e88f-cf4572b58315"
   },
   "outputs": [
    {
     "name": "stdout",
     "output_type": "stream",
     "text": [
      "/content/gdrive/My Drive\n"
     ]
    }
   ],
   "source": [
    "%cd /content/gdrive/My Drive/"
   ]
  },
  {
   "cell_type": "markdown",
   "metadata": {
    "id": "jxA0zhNrgqt-"
   },
   "source": [
    "**Rutuja's attempt for Open CV**"
   ]
  },
  {
   "cell_type": "code",
   "execution_count": null,
   "metadata": {
    "colab": {
     "base_uri": "https://localhost:8080/"
    },
    "executionInfo": {
     "elapsed": 6322,
     "status": "ok",
     "timestamp": 1614707599443,
     "user": {
      "displayName": "team outliers",
      "photoUrl": "",
      "userId": "10098256172381899058"
     },
     "user_tz": 300
    },
    "id": "T4OTy2jDSjI5",
    "outputId": "cc93f83f-936a-4676-865e-2e8fec320116"
   },
   "outputs": [
    {
     "name": "stdout",
     "output_type": "stream",
     "text": [
      "Collecting pip\n",
      "\u001b[?25l  Downloading https://files.pythonhosted.org/packages/fe/ef/60d7ba03b5c442309ef42e7d69959f73aacccd0d86008362a681c4698e83/pip-21.0.1-py3-none-any.whl (1.5MB)\n",
      "\u001b[K     |████████████████████████████████| 1.5MB 5.8MB/s \n",
      "\u001b[?25hInstalling collected packages: pip\n",
      "  Found existing installation: pip 19.3.1\n",
      "    Uninstalling pip-19.3.1:\n",
      "      Successfully uninstalled pip-19.3.1\n",
      "Successfully installed pip-21.0.1\n"
     ]
    }
   ],
   "source": [
    "pip install --upgrade pip"
   ]
  },
  {
   "cell_type": "code",
   "execution_count": null,
   "metadata": {
    "colab": {
     "base_uri": "https://localhost:8080/"
    },
    "executionInfo": {
     "elapsed": 3833,
     "status": "ok",
     "timestamp": 1614719811058,
     "user": {
      "displayName": "team outliers",
      "photoUrl": "",
      "userId": "10098256172381899058"
     },
     "user_tz": 300
    },
    "id": "vG-g8TsySRKn",
    "outputId": "4d889352-f7a2-40ec-8699-846c37362a51"
   },
   "outputs": [
    {
     "name": "stdout",
     "output_type": "stream",
     "text": [
      "Requirement already satisfied: opencv-python in /usr/local/lib/python3.7/dist-packages (4.1.2.30)\n",
      "Requirement already satisfied: numpy>=1.14.5 in /usr/local/lib/python3.7/dist-packages (from opencv-python) (1.19.5)\n"
     ]
    }
   ],
   "source": [
    "pip install opencv-python"
   ]
  },
  {
   "cell_type": "code",
   "execution_count": null,
   "metadata": {
    "id": "jwcM3hojvsMU"
   },
   "outputs": [],
   "source": []
  },
  {
   "cell_type": "code",
   "execution_count": null,
   "metadata": {
    "id": "29H1dEw4vsMU"
   },
   "outputs": [],
   "source": []
  },
  {
   "cell_type": "code",
   "execution_count": null,
   "metadata": {
    "id": "q13ZyjNIvsMU"
   },
   "outputs": [],
   "source": []
  },
  {
   "cell_type": "code",
   "execution_count": null,
   "metadata": {
    "colab": {
     "base_uri": "https://localhost:8080/",
     "height": 349
    },
    "executionInfo": {
     "elapsed": 199,
     "status": "ok",
     "timestamp": 1615350025015,
     "user": {
      "displayName": "team outliers",
      "photoUrl": "",
      "userId": "10098256172381899058"
     },
     "user_tz": 300
    },
    "id": "9hABbXRiIZ7j",
    "outputId": "08c1a067-738a-400b-e43c-1593ebe2372a"
   },
   "outputs": [
    {
     "data": {
      "image/png": "[encoded data removed]",
      "text/plain": [
       "<PIL.Image.Image image mode=L size=498x332 at 0x7F5A211C0690>"
      ]
     },
     "execution_count": 333,
     "metadata": {
      "tags": []
     },
     "output_type": "execute_result"
    }
   ],
   "source": [
    "#Thresholding images. Follow these steps after removing the blurred region as discussed.\n",
    "import cv2 \n",
    "import matplotlib.pyplot as plt\n",
    "from PIL import ImageEnhance\n",
    "from PIL import Image\n",
    "from google.colab.patches import cv2_imshow\n",
    "import seaborn as sns\n",
    "import numpy as np\n",
    "import pandas as pd\n",
    "img = cv2.imread(\"sarcopenia-ai-master/Deblurred_Outputs/deblur30.jpg\", 0)\n",
    "blackAndWhiteImage = cv2.threshold(img, 118, 255,  cv2.THRESH_BINARY_INV +  cv2.THRESH_TOZERO )[1]\n",
    "# x = cv2_imshow(blackAndWhiteImage)\n",
    "cv2.imwrite('threshd.jpg', blackAndWhiteImage)\n",
    "\n",
    "x = Image.open('threshd.jpg')\n",
    "enhancer = ImageEnhance.Brightness(x)\n",
    "\n",
    "enhanced_im = enhancer.enhance(3)\n",
    "enhanced_im.save('sarcopenia-ai-master/Threshold_Outputs_Modified/thresh30.jpg')\n",
    "enhanced_im\n",
    "# cv2_imshow(blackAndWhiteImage)\n",
    "# cv2.waitKey(0)\n",
    "# cnts = cv2.findContours(blackAndWhiteImage, cv2.RETR_EXTERNAL, cv2.CHAIN_APPROX_SIMPLE)\n",
    "# cnts = imutils.grab_contours(cnts)\n",
    "# for c in cnts:\n",
    "#     cv2.drawContours(blackAndWhiteImage, [c], -1, (0, 255, 0), 7)\n",
    "\n",
    "# cv2_imshow(blackAndWhiteImage)\n",
    "# cv2.waitKey(0)\n",
    "# cv2.destroyAllWindows()"
   ]
  },
  {
   "cell_type": "code",
   "execution_count": null,
   "metadata": {
    "colab": {
     "base_uri": "https://localhost:8080/",
     "height": 371
    },
    "executionInfo": {
     "elapsed": 1457,
     "status": "ok",
     "timestamp": 1615422879939,
     "user": {
      "displayName": "team outliers",
      "photoUrl": "",
      "userId": "10098256172381899058"
     },
     "user_tz": 300
    },
    "id": "pVELcqWfIhLf",
    "outputId": "a2ffb3d3-ff41-41c2-f2e0-14a635a6b901"
   },
   "outputs": [
    {
     "data": {
      "image/png": "[encoded data removed]",
      "text/plain": [
       "<Figure size 660x440 with 1 Axes>"
      ]
     },
     "metadata": {
      "needs_background": "light",
      "tags": []
     },
     "output_type": "display_data"
    }
   ],
   "source": [
    "#!pip install scikit-image\n",
    "from skimage import color\n",
    "from skimage import io\n",
    "import numpy as np\n",
    "import matplotlib.pyplot as plt\n",
    "img = color.rgb2gray(io.imread('sarcopenia-ai-master/Rutuja_Outputs/output2.jpg'))\n",
    "#print(np.shape(img))\n",
    "fig = plt.figure(dpi=110)\n",
    "plt.imshow(img, vmin=0.3, vmax=0.75, cmap='gray')\n",
    "plt.axis('off')\n",
    "plt.savefig('filter.jpg', transparent=True, bbox_inches='tight', pad_inches=0)\n"
   ]
  },
  {
   "cell_type": "code",
   "execution_count": null,
   "metadata": {
    "colab": {
     "base_uri": "https://localhost:8080/",
     "height": 349
    },
    "executionInfo": {
     "elapsed": 1163,
     "status": "ok",
     "timestamp": 1615298119545,
     "user": {
      "displayName": "team outliers",
      "photoUrl": "",
      "userId": "10098256172381899058"
     },
     "user_tz": 300
    },
    "id": "NphgHNh9bA29",
    "outputId": "c1caf7f4-ad5e-4d6e-f0cf-5374d5fd67c6"
   },
   "outputs": [
    {
     "data": {
      "image/png": "[encoded data removed]",
      "text/plain": [
       "<PIL.Image.Image image mode=RGB size=498x332 at 0x7F641223A710>"
      ]
     },
     "execution_count": 8,
     "metadata": {
      "tags": []
     },
     "output_type": "execute_result"
    }
   ],
   "source": [
    "from PIL import ImageEnhance\n",
    "from PIL import Image\n",
    "import cv2\n",
    "from google.colab.patches import cv2_imshow\n",
    "xi = Image.open('filter.jpg')\n",
    "\n",
    "enhancer = ImageEnhance.Contrast(xi)\n",
    "\n",
    "enhanced_im = enhancer.enhance(1\n",
    "                              )\n",
    "\n",
    "enhanced_im.save('filter2.jpg')\n",
    "enhanced_im\n"
   ]
  },
  {
   "cell_type": "code",
   "execution_count": null,
   "metadata": {
    "colab": {
     "base_uri": "https://localhost:8080/"
    },
    "executionInfo": {
     "elapsed": 246,
     "status": "ok",
     "timestamp": 1615255590940,
     "user": {
      "displayName": "team outliers",
      "photoUrl": "",
      "userId": "10098256172381899058"
     },
     "user_tz": 300
    },
    "id": "rz2XGOGjAZ2C",
    "outputId": "9349d4d5-d190-4cbf-ceb0-65a0821a8d43"
   },
   "outputs": [
    {
     "name": "stdout",
     "output_type": "stream",
     "text": [
      "(332, 498, 3)\n",
      "(332, 498, 3)\n"
     ]
    },
    {
     "data": {
      "text/plain": [
       "True"
      ]
     },
     "execution_count": 244,
     "metadata": {
      "tags": []
     },
     "output_type": "execute_result"
    }
   ],
   "source": [
    "from PIL import Image\n",
    "import cv2\n",
    "from google.colab.patches import cv2_imshow\n",
    "img = cv2.imread('filter2.jpg')\n",
    "print(img.shape)\n",
    "imb = cv2.GaussianBlur(img, (1,1), 0)\n",
    "print(imb.shape)\n",
    "\n",
    "cv2.imwrite('sarcopenia-ai-master/Deblurred_Outputs/deblur6.jpg', img)"
   ]
  },
  {
   "cell_type": "code",
   "execution_count": null,
   "metadata": {
    "id": "xRxxJfBy6Ml-"
   },
   "outputs": [],
   "source": []
  }
 ],
 "metadata": {
  "colab": {
   "collapsed_sections": [],
   "name": "L3_deblur&threshold.ipynb",
   "provenance": [
    {
     "file_id": "16D079aaiGVuQf1NztwrblgACzSv8hOUV",
     "timestamp": 1616368114549
    }
   ]
  },
  "kernelspec": {
   "display_name": "Python 3",
   "language": "python",
   "name": "python3"
  },
  "language_info": {
   "codemirror_mode": {
    "name": "ipython",
    "version": 3
   },
   "file_extension": ".py",
   "mimetype": "text/x-python",
   "name": "python",
   "nbconvert_exporter": "python",
   "pygments_lexer": "ipython3",
   "version": "3.7.3"
  }
 },
 "nbformat": 4,
 "nbformat_minor": 1
}
