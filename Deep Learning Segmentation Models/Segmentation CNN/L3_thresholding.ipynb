{
  "nbformat": 4,
  "nbformat_minor": 0,
  "metadata": {
    "colab": {
      "name": "L3_thresholding.ipynb",
      "provenance": [],
      "collapsed_sections": []
    },
    "kernelspec": {
      "name": "python3",
      "display_name": "Python 3"
    },
    "language_info": {
      "name": "python"
    }
  },
  "cells": [
    {
      "cell_type": "code",
      "metadata": {
        "colab": {
          "base_uri": "https://localhost:8080/"
        },
        "id": "2OwDAWMDDkAb",
        "outputId": "62edee66-83d3-4c94-b107-4d495736bee2"
      },
      "source": [
        "from google.colab import drive\n",
        "drive.mount('/content/gdrive')"
      ],
      "execution_count": null,
      "outputs": [
        {
          "output_type": "stream",
          "text": [
            "Mounted at /content/gdrive\n"
          ],
          "name": "stdout"
        }
      ]
    },
    {
      "cell_type": "code",
      "metadata": {
        "colab": {
          "base_uri": "https://localhost:8080/"
        },
        "id": "hZH5te3YDzia",
        "outputId": "47f7c938-034b-4285-ae56-93baf1998f52"
      },
      "source": [
        "%cd /content/gdrive/My Drive"
      ],
      "execution_count": null,
      "outputs": [
        {
          "output_type": "stream",
          "text": [
            "/content/gdrive/My Drive\n"
          ],
          "name": "stdout"
        }
      ]
    },
    {
      "cell_type": "code",
      "metadata": {
        "colab": {
          "base_uri": "https://localhost:8080/",
          "height": 349
        },
        "id": "G4FltUDmD2sh",
        "outputId": "3147b1a2-33f2-448b-eb2b-5f7f0c24109d"
      },
      "source": [
        "#importing required packages\n",
        "from skimage import color\n",
        "import cv2\n",
        "from skimage import io\n",
        "from google.colab.patches import cv2_imshow\n",
        "import numpy as np\n",
        "import glob\n",
        "import matplotlib.pyplot as plt\n",
        "from PIL import ImageEnhance\n",
        "from PIL import Image\n",
        "#calling the folder which contains cleaned images from previous approach\n",
        "img_path_t = 'sarcopenia-ai-master/Deblurred_Outputs/*.jpg'\n",
        "image_list_t = []\n",
        "for filename in glob.glob(img_path_t):\n",
        "  im=Image.open(filename)\n",
        "  i = np.asarray(im)\n",
        "  image_list_t.append(i) #placing all the images in the list\n",
        "\n",
        "#performing thresholding and enhancing brightess to produce required outputs. Here we are performing thresholding on 29th image in the list. You can choose different images by changing numbers.\n",
        "blackAndWhiteImage = cv2.threshold(np.array(image_list_t[28]), 125, 255,  cv2.THRESH_BINARY_INV +  cv2.THRESH_TOZERO )[1]\n",
        "eim = Image.fromarray(blackAndWhiteImage)\n",
        "enhancer = ImageEnhance.Brightness(eim)\n",
        "enhanced_ij = enhancer.enhance(6)\n",
        "enhanced_ij\n",
        "# enhanced_ij.save('thresh_img.jpg')#saving the image. You can also provide a directory to the folder you want to save the image.\n",
        "\n"
      ],
      "execution_count": null,
      "outputs": [
        {
          "output_type": "execute_result",
          "data": {
            "image/png": "[encoded data removed]",
            "text/plain": [
              "<PIL.Image.Image image mode=RGB size=498x332 at 0x7FC016272250>"
            ]
          },
          "metadata": {
            "tags": []
          },
          "execution_count": 6
        }
      ]
    }
  ]
}