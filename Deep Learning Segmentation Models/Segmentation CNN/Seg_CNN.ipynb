{
  "nbformat": 4,
  "nbformat_minor": 0,
  "metadata": {
    "colab": {
      "name": "SegmentationCNN.ipynb",
      "provenance": [],
      "collapsed_sections": []
    },
    "kernelspec": {
      "name": "python3",
      "display_name": "Python 3"
    },
    "language_info": {
      "name": "python"
    }
  },
  "cells": [
    {
      "cell_type": "code",
      "metadata": {
        "colab": {
          "base_uri": "https://localhost:8080/"
        },
        "id": "01SQAqdSYrZq",
        "outputId": "3bc99a9d-3bca-4dbf-dd1d-fa4ebb7051b1"
      },
      "source": [
        "\n",
        "from google.colab import drive\n",
        "drive.mount('/content/gdrive')"
      ],
      "execution_count": null,
      "outputs": [
        {
          "output_type": "stream",
          "text": [
            "Mounted at /content/gdrive\n"
          ],
          "name": "stdout"
        }
      ]
    },
    {
      "cell_type": "code",
      "metadata": {
        "colab": {
          "base_uri": "https://localhost:8080/"
        },
        "id": "k-1ZlBchZU1N",
        "outputId": "3eb3cc9b-436b-46b0-93a2-629beaeedbc6"
      },
      "source": [
        "%cd /content/gdrive/My Drive"
      ],
      "execution_count": null,
      "outputs": [
        {
          "output_type": "stream",
          "text": [
            "/content/gdrive/My Drive\n"
          ],
          "name": "stdout"
        }
      ]
    },
    {
      "cell_type": "markdown",
      "metadata": {
        "id": "bvK5yNURHzOI"
      },
      "source": [
        "In the following step we are using cleaned images as inputs and painted images generated from ImageJ as masks. We Initially used thresholded images as masks but we could not get satisfactory results. You can observe the results for thresholded images by changing the directory from painted images to thresholded images."
      ]
    },
    {
      "cell_type": "code",
      "metadata": {
        "id": "JMzsRgqZ-GnT"
      },
      "source": [
        "#importing required packages\n",
        "from tqdm import tqdm\n",
        "import cv2\n",
        "import glob\n",
        "import skimage.io as io\n",
        "from skimage.transform import resize\n",
        "from skimage.io import imread, imshow\n",
        "from google.colab.patches import cv2_imshow\n",
        "import numpy as np\n",
        "my_epochs = 20 #setting epochs on network to be 20\n",
        "img_dims = 256 #image size\n",
        "batch_size = 32 #batchsize for the network\n",
        "X_train = []\n",
        "Y_train = []\n",
        "#accessing all the cleaned images which we use as inputs and painted images generated from ImageJ tool as masks.\n",
        "i_path = 'sarcopenia-ai-master/Deblurred_Outputs/*.jpg'\n",
        "m_path = 'sarcopenia-ai-master/deOutputs/*.jpg'\n",
        "for filename in glob.glob(i_path):\n",
        "  img = cv2.imread(filename)\n",
        "  train_imgs = resize(img, (img_dims,img_dims, 3), mode='constant', preserve_range=True)\n",
        "  X_train.append(list(train_imgs))\n",
        "for filename in glob.glob(m_path):\n",
        "  img = cv2.imread(filename)\n",
        "  mask_imgs = resize(img, (img_dims, img_dims, 1), mode='constant', preserve_range=True)\n",
        "  Y_train.append(list(mask_imgs))"
      ],
      "execution_count": null,
      "outputs": []
    },
    {
      "cell_type": "code",
      "metadata": {
        "id": "Ma7V6loucNsN"
      },
      "source": [
        "#importing required packages\n",
        "import tensorflow as tf\n",
        "from keras.models import *\n",
        "from keras.layers import *\n",
        "from keras.optimizers import *\n",
        "# from keras.callbacks import ModelCheckpoint, LearningRateScheduler\n",
        "from keras import backend as K\n",
        "#s)\n",
        "#defining inputs for the network\n",
        "inputs = tf.keras.layers.Input((img_dims, 3))"
      ],
      "execution_count": null,
      "outputs": []
    },
    {
      "cell_type": "markdown",
      "metadata": {
        "id": "f4QjNXPDI5Gq"
      },
      "source": [
        "For this segmentation CNN approach we followed Yunzhi wang and team approach where they used combination of CONV2D, Maxpooling and Upsampling layers. But we were initially getting shape errors with Conv2D so we proceeded with Conv1D. Here also max pooling and upsampling were not working. So we just used five Conv1D layers. "
      ]
    },
    {
      "cell_type": "code",
      "metadata": {
        "id": "7V345ZwtcUd1"
      },
      "source": [
        "\n",
        "c1 = tf.keras.layers.Conv1D(filters=32, kernel_size=3, activation='relu', padding='same')(inputs)\n",
        "c1 = tf.keras.layers.Dropout(rate=0.2)(c1)\n",
        "c1 = tf.keras.layers.Conv1D(filters=32, kernel_size=3, activation='relu', padding='same')(c1)\n",
        "# c1 = tf.keras.layers.MaxPooling1D(pool_size=2)(c1)\n",
        "\n",
        "\n",
        "# #second convolutional block\n",
        "c2 = tf.keras.layers.Conv1D(filters=64, kernel_size=3, activation='relu', padding='same')(c1)\n",
        "c2 = tf.keras.layers.Dropout(rate=0.2)(c2)\n",
        "c2 = tf.keras.layers.Conv1D(filters=64, kernel_size=3, activation='relu', padding='same')(c2)\n",
        "# # c2 = tf.keras.layers.MaxPooling1D(pool_size=2)(c2)\n",
        "\n",
        "# # # #third convolutional block\n",
        "c3 = tf.keras.layers.Conv1D(filters=128, kernel_size=3, activation='relu', padding='same')(c2)\n",
        "c3 = tf.keras.layers.Dropout(rate=0.2)(c3)\n",
        "c3 = tf.keras.layers.Conv1D(filters=128, kernel_size=3, activation='relu', padding='same')(c3)\n",
        "# # c3 = tf.keras.layers.MaxPooling1D(pool_size=2)(c3)\n",
        "\n",
        "# # # #Upsampling and fourth convolutional block\n",
        "# # u1 = tf.keras.layers.UpSampling1D(size=2)(c3) \n",
        "# # u1 = tf.keras.layers.concatenate([u1, c1], axis=-1)\n",
        "c4 = tf.keras.layers.Conv1D(filters=64, kernel_size=3, activation='relu', padding='same')(c3)\n",
        "c4 = tf.keras.layers.Dropout(rate=0.2)(c4)\n",
        "c4 = tf.keras.layers.Conv1D(filters=64, kernel_size=3, activation='relu', padding='same')(c4)\n",
        "\n",
        "# # # # c4 = tf.keras.layers.Conv1D(filters=64, kernel_size=3, activation='relu', padding='same')(c3)\n",
        "# # # # c4 = tf.keras.layers.Dropout(rate=0.2)(c4)\n",
        "# # # # c4 = tf.keras.layers.Conv1D(filters=64, kernel_size=3, activation='relu', padding='same')(c4)\n",
        "# # # # c4 = tf.keras.layers.MaxPooling1D(pool_size=2)(c4)\n",
        "# # # # #Upsampling and fifth convolutional block\n",
        "# # u2 = tf.keras.layers.UpSampling1D(size=2)(c4) \n",
        "# # # u2 = tf.keras.layers.concatenate([u2, c1], axis=-1)\n",
        "c5 = tf.keras.layers.Conv1D(filters=32, kernel_size=3, activation='relu', padding='same')(c4)\n",
        "c5 = tf.keras.layers.Dropout(rate=0.2)(c5)\n",
        "c5 = tf.keras.layers.Conv1D(filters=32, kernel_size=3, activation='relu', padding='same')(c5)\n",
        "# # c5 = tf.keras.layers.Conv1D(filters=32, kernel_size=3, activation='relu', padding='same')(c4)\n",
        "# # c5 = tf.keras.layers.Dropout(rate=0.2)(c5)\n",
        "# # c5 = tf.keras.layers.Conv1D(filters=32, kernel_size=3, activation='relu', padding='same')(c5)\n",
        "# # c5 = tf.keras.layers.MaxPooling1D(pool_size=2)(c5)"
      ],
      "execution_count": null,
      "outputs": []
    },
    {
      "cell_type": "markdown",
      "metadata": {
        "id": "xUkJ95AMJrdF"
      },
      "source": [
        "The follwing commented code is Conv1D with Maxpooling and Upsampling. You can uncomment and observe the results"
      ]
    },
    {
      "cell_type": "code",
      "metadata": {
        "id": "BaCNYKubPK6U"
      },
      "source": [
        "# c1 = tf.keras.layers.Conv1D(filters=32, kernel_size=(3), activation='relu', padding='same')(inputs)\n",
        "# c1 = tf.keras.layers.Dropout(rate=0.2)(c1)\n",
        "# c1 = tf.keras.layers.Conv1D(filters=32, kernel_size=(3), activation='relu', padding='same')(c1)\n",
        "# c1 = tf.keras.layers.MaxPooling1D(pool_size=(2))(c1)\n",
        "\n",
        "# #second convolutional block\n",
        "# c2 = tf.keras.layers.Conv1D(filters=64, kernel_size=(3), activation='relu', padding='same')(c1)\n",
        "# c2 = tf.keras.layers.Dropout(rate=0.2)(c2)\n",
        "# c2 = tf.keras.layers.Conv1D(filters=64, kernel_size=(3), activation='relu', padding='same')(c2)\n",
        "# c2 = tf.keras.layers.MaxPooling1D(pool_size=(2))(c2)\n",
        "\n",
        "# #third convolutional block\n",
        "# c3 = tf.keras.layers.Conv1D(filters=128, kernel_size=(3), activation='relu', padding='same')(c2)\n",
        "# c3 = tf.keras.layers.Dropout(rate=0.2)(c3)\n",
        "# c3 = tf.keras.layers.Conv1D(filters=128, kernel_size=(3), activation='relu', padding='same')(c3)\n",
        "# c3 = tf.keras.layers.MaxPooling1D(pool_size=(2))(c3)\n",
        "\n",
        "\n",
        "# cf = tf.keras.layers.Conv1D(filters = 256, kernel_size=(3), activation='relu', padding='same')(c3)\n",
        "# cf = tf.keras.layers.Dropout(rate=0.2)(cf)\n",
        "# cf = tf.keras.layers.Conv1D(filters= 256, kernel_size=(3), activation='relu', padding='same')(cf)\n",
        "\n",
        "# cf = tf.keras.layers.MaxPooling1D(pool_size=(2))(cf) \n",
        "\n",
        "# #Upsampling and fourth convolutional block\n",
        "# u1 = tf.keras.layers.UpSampling1D(size=(2))(cf) \n",
        "# u1 = tf.keras.layers.concatenate([c3, u1], axis=-1)\n",
        "# c4 = tf.keras.layers.Conv1D(filters=128, kernel_size=(3), activation='relu', padding='same')(u1)\n",
        "# c4 = tf.keras.layers.Dropout(rate=0.2)(c4)\n",
        "# c4 = tf.keras.layers.Conv1D(filters=128, kernel_size=(3), activation='relu', padding='same')(c4)\n",
        "\n",
        "# #Upsampling and fifth convolutional block\n",
        "# u2 = tf.keras.layers.UpSampling1D(size=(2))(c4) \n",
        "# u2 = tf.keras.layers.concatenate([u2, c2], axis=-1)\n",
        "# c5 = tf.keras.layers.Conv1D(filters=64, kernel_size=(3), activation='relu', padding='same')(u2)\n",
        "# c5 = tf.keras.layers.Dropout(rate=0.2)(c5)\n",
        "# c5 = tf.keras.layers.Conv1D(filters=64, kernel_size=(3), activation='relu', padding='same')(c5)\n",
        "# #Upsampling and sixth convolutional block\n",
        "# u3 = tf.keras.layers.UpSampling1D(size=(2))(c5) \n",
        "# u3 = tf.keras.layers.concatenate([u3, c1], axis=-1)\n",
        "# c6 = tf.keras.layers.Conv1D(filters=32, kernel_size=(3), activation='relu', padding='same')(u3)\n",
        "# c6 = tf.keras.layers.Dropout(rate=0.2)(c6)\n",
        "# c6 = tf.keras.layers.Conv1D(filters=32, kernel_size=(3), activation='relu', padding='same')(c6)\n",
        "\n",
        "# uf = tf.keras.layers.UpSampling1D(size=(2))(c6) \n",
        "# # uf = tf.keras.layers.concatenate([uf, c1], axis=-1)\n",
        "# c7 = tf.keras.layers.Conv1D(filters=32, kernel_size=(3), activation='relu', padding='same')(uf)\n",
        "# c7 = tf.keras.layers.Dropout(rate=0.2)(c7)\n",
        "# c7 = tf.keras.layers.Conv1D(filters=32, kernel_size=(3), activation='relu', padding='same')(c7)\n"
      ],
      "execution_count": null,
      "outputs": []
    },
    {
      "cell_type": "markdown",
      "metadata": {
        "id": "EX65dcnPKGDR"
      },
      "source": [
        "The following commented code is our attempt for Conv2D. Conv2D did work when we changed the dimensions of the image. \n",
        "In this code:  train_imgs = resize(img, (img_dims,img_dims, 3) add one more channel and uncomment the follwing code to see how Conv2D works"
      ]
    },
    {
      "cell_type": "code",
      "metadata": {
        "id": "lvlyJX26EABM"
      },
      "source": [
        "# c1 = tf.keras.layers.Conv2D(filters=32, kernel_size=(3,3), activation='relu', padding='same')(inputs)\n",
        "# c1 = tf.keras.layers.Dropout(rate=0.2)(c1)\n",
        "# c1 = tf.keras.layers.Conv2D(filters=32, kernel_size=(3,3), activation='relu', padding='same')(c1)\n",
        "# c1 = tf.keras.layers.MaxPooling2D(pool_size=(2, 2))(c1)\n",
        "\n",
        "# #second convolutional block\n",
        "# c2 = tf.keras.layers.Conv2D(filters=64, kernel_size=(3,3), activation='relu', padding='same')(c1)\n",
        "# c2 = tf.keras.layers.Dropout(rate=0.2)(c2)\n",
        "# c2 = tf.keras.layers.Conv2D(filters=64, kernel_size=(3,3), activation='relu', padding='same')(c2)\n",
        "# c2 = tf.keras.layers.MaxPooling2D(pool_size=(2, 2))(c2)\n",
        "\n",
        "# #third convolutional block\n",
        "# c3 = tf.keras.layers.Conv2D(filters=128, kernel_size=(3,3), activation='relu', padding='same')(c2)\n",
        "# c2 = tf.keras.layers.Dropout(rate=0.2)(c3)\n",
        "# c3 = tf.keras.layers.Conv2D(filters=128, kernel_size=(3,3), activation='relu', padding='same')(c3)\n",
        "# c3 = tf.keras.layers.MaxPooling2D(pool_size=(2, 2))(c3)\n",
        "\n",
        "# #Upsampling and fourth convolutional block\n",
        "# u1 = tf.keras.layers.UpSampling2D(size=(2,2))(c3) \n",
        "# u1 = tf.keras.layers.concatenate([u1, c2], axis=-1)\n",
        "# c4 = tf.keras.layers.Conv2D(filters=64, kernel_size=(3,3), activation='relu', padding='same')(u1)\n",
        "# c4 = tf.keras.layers.Dropout(rate=0.2)(c4)\n",
        "# c4 = tf.keras.layers.Conv2D(filters=64, kernel_size=(3,3), activation='relu', padding='same')(c4)\n",
        "\n",
        "# #Upsampling and fifth convolutional block\n",
        "# u2 = tf.keras.layers.UpSampling2D(size=(2,2))(c4) \n",
        "# u2 = tf.keras.layers.concatenate([u2, c1], axis=-1)\n",
        "# c5 = tf.keras.layers.Conv2D(filters=32, kernel_size=(3,3), activation='relu', padding='same')(u2)\n",
        "# c5 = tf.keras.layers.Dropout(rate=0.2)(c5)\n",
        "# c5 = tf.keras.layers.Conv2D(filters=32, kernel_size=(3,3), activation='relu', padding='same')(c5)"
      ],
      "execution_count": null,
      "outputs": []
    },
    {
      "cell_type": "code",
      "metadata": {
        "id": "BS-v7sAycdT2"
      },
      "source": [
        "# defining outputs for network. The best result was produced for c1\n",
        "outputs = tf.keras.layers.Conv1D(filters=1, kernel_size = 1, activation='sigmoid')(c1)"
      ],
      "execution_count": null,
      "outputs": []
    },
    {
      "cell_type": "code",
      "metadata": {
        "colab": {
          "base_uri": "https://localhost:8080/"
        },
        "id": "06IXqGDqeeco",
        "outputId": "6173c51e-828b-40fe-fcd5-7b50769ba5e5"
      },
      "source": [
        "# Creating model and compiling\n",
        "from keras.callbacks import ModelCheckpoint, ReduceLROnPlateau, EarlyStopping, TensorBoard\n",
        "model = tf.keras.Model(inputs, outputs )\n",
        "# optimizer = tf.keras.optimizers.SGD(learning_rate=0.1)\n",
        "# model.compile(loss=tf.keras.losses.CategoricalCrossentropy(from_logits=False), optimizer=optimizer, metrics=['accuracy'])\n",
        "model.compile(optimizer=Adam(lr=1e-4), loss='binary_crossentropy', metrics=['accuracy'])\n",
        "model.summary()\n",
        "\n",
        "# Callbacks\n",
        "# checkpoint = ModelCheckpoint(filepath='xray_model.hdf5', save_best_only=True, save_weights_only=True)\n",
        "# lr_reduce = ReduceLROnPlateau(monitor='val_loss', factor=0.3, patience=2, verbose=2, mode='max')\n",
        "checkpoint = ModelCheckpoint(filepath='xray_model.hdf5', save_best_only=True, save_weights_only=True)\n",
        "lr_reduce = ReduceLROnPlateau(monitor='val_loss', factor=0.3, patience=2, verbose=2, mode='max')\n",
        "early_stop = EarlyStopping(monitor='val_loss', min_delta=0.1, patience=3, mode='min')\n",
        "board = TensorBoard(log_dir='logs')\n",
        "\n",
        "my_callbacks = [\n",
        "    checkpoint,\n",
        "    lr_reduce,\n",
        "    early_stop,\n",
        "    board\n",
        "]"
      ],
      "execution_count": null,
      "outputs": [
        {
          "output_type": "stream",
          "text": [
            "Model: \"model_1\"\n",
            "_________________________________________________________________\n",
            "Layer (type)                 Output Shape              Param #   \n",
            "=================================================================\n",
            "input_1 (InputLayer)         [(None, 256, 3)]          0         \n",
            "_________________________________________________________________\n",
            "conv1d (Conv1D)              (None, 256, 32)           320       \n",
            "_________________________________________________________________\n",
            "dropout (Dropout)            (None, 256, 32)           0         \n",
            "_________________________________________________________________\n",
            "conv1d_1 (Conv1D)            (None, 256, 32)           3104      \n",
            "_________________________________________________________________\n",
            "conv1d_10 (Conv1D)           (None, 256, 1)            33        \n",
            "=================================================================\n",
            "Total params: 3,457\n",
            "Trainable params: 3,457\n",
            "Non-trainable params: 0\n",
            "_________________________________________________________________\n"
          ],
          "name": "stdout"
        }
      ]
    },
    {
      "cell_type": "code",
      "metadata": {
        "colab": {
          "base_uri": "https://localhost:8080/"
        },
        "id": "osHLMaEce7-8",
        "outputId": "e79ff00e-b10b-4dc8-862c-405b7f9188df"
      },
      "source": [
        "#Splitting data into training and testing sets and fitting the model\n",
        "from sklearn.model_selection import train_test_split\n",
        "\n",
        "# dim=512\n",
        "# images = np.array(images).reshape(len(images),dim,dim,1)\n",
        "# masks = np.array(masks).reshape(len(masks),dim,dim,1)\n",
        "\n",
        "train_images, validation_images, train_masks, validation_masks = train_test_split((train_imgs-127.0)/127.0, \n",
        "                                                            (mask_imgs>127).astype(np.float32), \n",
        "                                                            test_size = 0.1,random_state = 2018)\n",
        "\n",
        "train_images, test_images, train_masks, test_masks = train_test_split(train_images,train_masks,\n",
        "                                                            test_size = 0.1, \n",
        "                                                            random_state = 2018)\n",
        "\n",
        "history = model.fit(x = train_images, y = train_masks, batch_size = 16,\n",
        "                          validation_data =(test_images,test_masks), epochs = 20,\n",
        "                          callbacks=my_callbacks)\n",
        "\n",
        "\n",
        "\n",
        "# hist = model.fit(\n",
        "#            X_train[0:10],Y_train[0:10],validation_split=0.1,\n",
        "          \n",
        "#             epochs=my_epochs,\n",
        "#             callbacks=my_callbacks\n",
        "# )\n",
        "        \n",
        "           "
      ],
      "execution_count": null,
      "outputs": [
        {
          "output_type": "stream",
          "text": [
            "Epoch 1/20\n",
            "13/13 [==============================] - 3s 202ms/step - loss: 0.6494 - accuracy: 0.7913 - val_loss: 0.6093 - val_accuracy: 0.9903\n",
            "Epoch 2/20\n",
            "13/13 [==============================] - 0s 15ms/step - loss: 0.6131 - accuracy: 0.9285 - val_loss: 0.5731 - val_accuracy: 0.9973\n",
            "Epoch 3/20\n",
            "13/13 [==============================] - 0s 15ms/step - loss: 0.5777 - accuracy: 0.9796 - val_loss: 0.5388 - val_accuracy: 0.9975\n",
            "\n",
            "Epoch 00003: ReduceLROnPlateau reducing learning rate to 2.9999999242136255e-05.\n",
            "Epoch 4/20\n",
            "13/13 [==============================] - 0s 14ms/step - loss: 0.5482 - accuracy: 0.9940 - val_loss: 0.5289 - val_accuracy: 0.9976\n"
          ],
          "name": "stdout"
        }
      ]
    },
    {
      "cell_type": "code",
      "metadata": {
        "colab": {
          "base_uri": "https://localhost:8080/",
          "height": 248
        },
        "id": "ugd46wWZfhxu",
        "outputId": "8b651897-284b-4f45-ddb0-11ae7c38ab12"
      },
      "source": [
        "#Performing prediction a particular image\n",
        "from keras.preprocessing import image\n",
        "import matplotlib.pyplot as plt\n",
        "from skimage.io import imread, imshow\n",
        "import numpy as np\n",
        "from skimage.transform import resize\n",
        "\n",
        "img_path = 'sarcopenia-ai-master/Deblurred_Outputs/deblur2.jpg'\n",
        "img = io.imread(img_path)\n",
        "img1 = resize(img , (256,256,3))\n",
        "\n",
        "prediction = model.predict(img1)\n",
        "\n",
        "plt.imshow(np.squeeze(prediction), cmap = 'ocean')\n",
        "plt.savefig(\"seg3_4.jpg\")\n",
        "plt.axis('off')\n",
        "plt.savefig(\"seg3_a_off.jpg\") #saving the image. You can use a seperate folder to store the images\n"
      ],
      "execution_count": null,
      "outputs": [
        {
          "output_type": "display_data",
          "data": {
            "image/png": "[encoded data removed]",
            "text/plain": [
              "<Figure size 432x288 with 1 Axes>"
            ]
          },
          "metadata": {
            "tags": [],
            "needs_background": "light"
          }
        }
      ]
    }
  ]
}